{
  "nbformat": 4,
  "nbformat_minor": 0,
  "metadata": {
    "colab": {
      "provenance": []
    },
    "kernelspec": {
      "name": "python3",
      "display_name": "Python 3"
    },
    "language_info": {
      "name": "python"
    }
  },
  "cells": [
    {
      "cell_type": "code",
      "execution_count": null,
      "metadata": {
        "colab": {
          "base_uri": "https://localhost:8080/"
        },
        "id": "9iPH7WYozVyL",
        "outputId": "dac997f8-8aa5-4a96-e2c2-304fe9f89bdd"
      },
      "outputs": [
        {
          "output_type": "stream",
          "name": "stdout",
          "text": [
            "Movies DataFrame:\n",
            "   MovieID          Title            Genres          Director  \\\n",
            "0        1     The Matrix     Action Sci-Fi         Wachowski   \n",
            "1        2        Titanic     Romance Drama     James Cameron   \n",
            "2        3      Toy Story  Animation Family     John Lasseter   \n",
            "3        4  The Lion King  Animation Family      Roger Allers   \n",
            "4        5  Jurassic Park  Adventure Sci-Fi  Steven Spielberg   \n",
            "\n",
            "                       Plot_Keywords  \n",
            "0  virtual reality, hacker, dystopia  \n",
            "1           shipwreck, love, iceberg  \n",
            "2        toys, adventure, friendship  \n",
            "3            lion, jungle, adventure  \n",
            "4       dinosaurs, island, adventure  \n",
            "\n",
            "User Ratings DataFrame:\n",
            "   UserID  MovieID  Rating\n",
            "0       1        1       5\n",
            "1       1        2       3\n",
            "2       1        3       4\n",
            "3       1        4       5\n",
            "4       1        5       2\n"
          ]
        }
      ],
      "source": [
        "import pandas as pd\n",
        "from sklearn.feature_extraction.text import TfidfVectorizer\n",
        "from sklearn.metrics.pairwise import cosine_similarity\n",
        "\n",
        "# Sample dataset: Movie titles with multiple features\n",
        "movies = {\n",
        "    'MovieID': [1, 2, 3, 4, 5],\n",
        "    'Title': ['The Matrix', 'Titanic', 'Toy Story', 'The Lion King', 'Jurassic Park'],\n",
        "    'Genres': ['Action Sci-Fi', 'Romance Drama', 'Animation Family', 'Animation Family', 'Adventure Sci-Fi'],\n",
        "    'Director': ['Wachowski', 'James Cameron', 'John Lasseter', 'Roger Allers', 'Steven Spielberg'],\n",
        "    'Plot_Keywords': ['virtual reality, hacker, dystopia', 'shipwreck, love, iceberg',\n",
        "                      'toys, adventure, friendship', 'lion, jungle, adventure', 'dinosaurs, island, adventure']\n",
        "}\n",
        "movies_df = pd.DataFrame(movies)\n",
        "\n",
        "# Sample user ratings: User has rated all movies\n",
        "user_ratings = {\n",
        "    'UserID': [1, 1, 1, 1, 1],\n",
        "    'MovieID': [1, 2, 3, 4, 5],\n",
        "    'Rating': [5, 3, 4, 5, 2]\n",
        "}\n",
        "ratings_df = pd.DataFrame(user_ratings)\n",
        "\n",
        "print(\"Movies DataFrame:\")\n",
        "print(movies_df)\n",
        "print(\"\\nUser Ratings DataFrame:\")\n",
        "print(ratings_df)"
      ]
    },
    {
      "cell_type": "code",
      "source": [
        "# Combine relevant features into a single text field\n",
        "movies_df['Combined_Features'] = movies_df['Genres'] + ' ' + movies_df['Director'] + ' ' + movies_df['Plot_Keywords']\n",
        "\n",
        "print(\"\\nCombined Features for Each Movie:\")\n",
        "print(movies_df[['Title', 'Combined_Features']])\n"
      ],
      "metadata": {
        "colab": {
          "base_uri": "https://localhost:8080/"
        },
        "id": "1tEWd8Jsz-Py",
        "outputId": "6ad43415-330a-4083-e452-a0a3df7e568c"
      },
      "execution_count": null,
      "outputs": [
        {
          "output_type": "stream",
          "name": "stdout",
          "text": [
            "\n",
            "Combined Features for Each Movie:\n",
            "           Title                                  Combined_Features\n",
            "0     The Matrix  Action Sci-Fi Wachowski virtual reality, hacke...\n",
            "1        Titanic  Romance Drama James Cameron shipwreck, love, i...\n",
            "2      Toy Story  Animation Family John Lasseter toys, adventure...\n",
            "3  The Lion King  Animation Family Roger Allers lion, jungle, ad...\n",
            "4  Jurassic Park  Adventure Sci-Fi Steven Spielberg dinosaurs, i...\n"
          ]
        }
      ]
    },
    {
      "cell_type": "code",
      "source": [
        "# Initialize the TF-IDF vectorizer\n",
        "tfidf = TfidfVectorizer(stop_words='english')\n",
        "\n",
        "# Fit and transform the combined features into a TF-IDF matrix\n",
        "tfidf_matrix = tfidf.fit_transform(movies_df['Combined_Features'])\n",
        "\n",
        "print(\"\\nTF-IDF Matrix Shape (Movies x Features):\", tfidf_matrix.shape)\n"
      ],
      "metadata": {
        "colab": {
          "base_uri": "https://localhost:8080/"
        },
        "id": "aQzr6ZpS0c1W",
        "outputId": "4c066cd8-c094-44c0-dd91-87588242680b"
      },
      "execution_count": null,
      "outputs": [
        {
          "output_type": "stream",
          "name": "stdout",
          "text": [
            "\n",
            "TF-IDF Matrix Shape (Movies x Features): (5, 30)\n"
          ]
        }
      ]
    },
    {
      "cell_type": "code",
      "source": [
        "# Compute the cosine similarity matrix\n",
        "cosine_sim_matrix = cosine_similarity(tfidf_matrix, tfidf_matrix)\n",
        "\n",
        "# Convert to a DataFrame for easier visualization\n",
        "cosine_sim_df = pd.DataFrame(cosine_sim_matrix, index=movies_df['Title'], columns=movies_df['Title'])\n",
        "\n",
        "print(\"\\nCosine Similarity Matrix:\")\n",
        "print(cosine_sim_df)\n"
      ],
      "metadata": {
        "colab": {
          "base_uri": "https://localhost:8080/"
        },
        "id": "pjHZdR150iXU",
        "outputId": "dfc0b960-e3b9-46c6-ec30-402230acbe1d"
      },
      "execution_count": null,
      "outputs": [
        {
          "output_type": "stream",
          "name": "stdout",
          "text": [
            "\n",
            "Cosine Similarity Matrix:\n",
            "Title          The Matrix  Titanic  Toy Story  The Lion King  Jurassic Park\n",
            "Title                                                                      \n",
            "The Matrix       1.000000      0.0   0.000000       0.000000       0.180857\n",
            "Titanic          0.000000      1.0   0.000000       0.000000       0.000000\n",
            "Toy Story        0.000000      0.0   1.000000       0.304390       0.140429\n",
            "The Lion King    0.000000      0.0   0.304390       1.000000       0.140429\n",
            "Jurassic Park    0.180857      0.0   0.140429       0.140429       1.000000\n"
          ]
        }
      ]
    },
    {
      "cell_type": "code",
      "source": [
        "def recommend_movies(user_id, ratings_df, movies_df, cosine_sim_matrix, top_n=3):\n",
        "    # Get the user's movie ratings\n",
        "    user_data = ratings_df[ratings_df['UserID'] == user_id]\n",
        "\n",
        "    # Merge with movies to get the titles\n",
        "    user_data = user_data.merge(movies_df, on='MovieID')\n",
        "\n",
        "    # Calculate the weighted sum of cosine similarities for each movie\n",
        "    # The weight is the user's rating for the movie\n",
        "    user_movie_ids = user_data['MovieID'].tolist()\n",
        "    user_ratings = user_data['Rating'].tolist()\n",
        "    movie_indices = [movies_df.index[movies_df['MovieID'] == movie_id].tolist()[0] for movie_id in user_movie_ids]\n",
        "\n",
        "    # Calculate scores by multiplying the user's ratings by the cosine similarity scores\n",
        "    scores = cosine_sim_matrix[movie_indices, :].T.dot(user_ratings)\n",
        "\n",
        "    # Create a DataFrame of scores\n",
        "    score_df = pd.DataFrame(scores, index=movies_df['Title'], columns=['Score'])\n",
        "\n",
        "    # Remove movies the user has already rated\n",
        "    score_df = score_df[~score_df.index.isin(user_data['Title'])]\n",
        "\n",
        "    # Since the user has already rated all movies, the result will be empty\n",
        "    recommended_movies = score_df.sort_values(by='Score', ascending=False).head(top_n)\n",
        "\n",
        "    return recommended_movies\n",
        "\n",
        "# Get top 3 recommended movies for User 1\n",
        "recommendations = recommend_movies(user_id=1, ratings_df=ratings_df, movies_df=movies_df, cosine_sim_matrix=cosine_sim_matrix, top_n=3)\n",
        "\n",
        "print(\"\\nTop 3 Recommended Movies for User 1:\")\n",
        "print(recommendations)\n"
      ],
      "metadata": {
        "colab": {
          "base_uri": "https://localhost:8080/"
        },
        "id": "rRnQoWNv0-6X",
        "outputId": "7b74646e-bf05-4c61-d695-f2688ec2ffd0"
      },
      "execution_count": null,
      "outputs": [
        {
          "output_type": "stream",
          "name": "stdout",
          "text": [
            "\n",
            "Top 3 Recommended Movies for User 1:\n",
            "Empty DataFrame\n",
            "Columns: [Score]\n",
            "Index: []\n"
          ]
        }
      ]
    }
  ]
}